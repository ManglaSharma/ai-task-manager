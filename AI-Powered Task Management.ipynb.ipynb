{
  "cells": [
    {
      "cell_type": "code",
      "source": [
        "import pandas as pd\n",
        "import numpy as np\n",
        "import matplotlib.pyplot as plt\n",
        "import seaborn as sns\n",
        "import nltk\n",
        "import string\n",
        "from nltk.tokenize import word_tokenize\n",
        "from nltk.corpus import stopwords\n",
        "from nltk.stem import PorterStemmer\n",
        "from sklearn.naive_bayes import MultinomialNB\n",
        "from sklearn.svm import SVC\n",
        "from sklearn.metrics import classification_report, accuracy_score\n",
        "from sklearn.model_selection import train_test_split, GridSearchCV\n",
        "from sklearn.ensemble import RandomForestClassifier\n",
        "from sklearn.preprocessing import LabelEncoder\n",
        "from sklearn.feature_extraction.text import TfidfVectorizer\n",
        "from datetime import datetime\n",
        "from scipy.sparse import hstack\n",
        "from xgboost import XGBClassifier\n",
        "from datetime import datetime\n"
      ],
      "metadata": {
        "id": "TA42mxQZcer8"
      },
      "execution_count": null,
      "outputs": []
    },
    {
      "cell_type": "code",
      "execution_count": null,
      "metadata": {
        "colab": {
          "base_uri": "https://localhost:8080/"
        },
        "id": "ueyzh9irnPEk",
        "outputId": "bbdac1b6-42f8-4a76-b25e-739299733f1d"
      },
      "outputs": [
        {
          "output_type": "stream",
          "name": "stdout",
          "text": [
            " file successfully found\n"
          ]
        }
      ],
      "source": [
        "df = pd.read_csv(\"/content/drive/MyDrive/task_dataset.csv\")\n",
        "\n",
        "print(\" file successfully found\")"
      ]
    },
    {
      "cell_type": "code",
      "source": [
        "# Dataset\n",
        "df = pd.read_csv(\"/content/drive/MyDrive/task_dataset.csv\")\n",
        "print(\"Dataset Shape:\", df.shape)\n",
        "print(\"\\nMissing Values:\\n\", df.isnull().sum())\n",
        "\n",
        "# Standardizing Dates\n",
        "df[\"Deadline\"] = pd.to_datetime(df[\"Deadline\"], errors=\"coerce\")\n",
        "df[\"Days Remaining\"] = (df[\"Deadline\"] - pd.to_datetime(\"today\")).dt.days\n",
        "\n",
        "# Handling Missing Values\n",
        "df.fillna({\"Priority\": \"Medium\", \"Status\": \"Open\", \"Time Taken (hours)\": df[\"Time Taken (hours)\"].median()}, inplace=True)\n",
        "\n",
        "# Normalizing Priority Levels\n",
        "priority_mapping = {\"Low\": 1, \"Medium\": 2, \"High\": 3}\n",
        "df[\"Priority_Score\"] = df[\"Priority\"].map(priority_mapping)\n",
        "\n",
        "\n",
        "# Handling Outliers in Time Taken\n",
        "q1 = df[\"Time Taken (hours)\"].quantile(0.25)\n",
        "q3 = df[\"Time Taken (hours)\"].quantile(0.75)\n",
        "iqr = q3 - q1\n",
        "upper_bound = q3 + 1.5 * iqr\n",
        "df[\"Time Taken (hours)\"] = np.where(df[\"Time Taken (hours)\"] > upper_bound, upper_bound, df[\"Time Taken (hours)\"])\n",
        "\n",
        "# --- EDA Visualizations ---\n",
        "# Task Category Distribution\n",
        "plt.figure(figsize=(10, 5))\n",
        "sns.countplot(data=df, x=\"Category\", order=df[\"Category\"].value_counts().index)\n",
        "plt.xticks(rotation=45)\n",
        "plt.title(\"Task Category Distribution\")\n",
        "plt.show()\n",
        "\n",
        "# Priority Level Distribution\n",
        "plt.figure(figsize=(8, 4))\n",
        "sns.countplot(data=df, x=\"Priority\", order=[\"Low\", \"Medium\", \"High\"])\n",
        "plt.title(\"Task Priority Levels\")\n",
        "plt.show()\n",
        "\n",
        "# Deadline Analysis\n",
        "plt.figure(figsize=(10, 5))\n",
        "sns.histplot(df[\"Days Remaining\"], bins=20, kde=True)\n",
        "plt.title(\"Days Remaining Until Deadline\")\n",
        "plt.xlabel(\"Days\")\n",
        "plt.ylabel(\"Task Count\")\n",
        "plt.show()\n",
        "\n",
        "# User Workload Analysis\n",
        "plt.figure(figsize=(12, 6))\n",
        "sns.boxplot(data=df, x=\"User Workload\")\n",
        "plt.title(\"User Workload Distribution\")\n",
        "plt.show()\n",
        "\n",
        "# Task Completion Behavior\n",
        "plt.figure(figsize=(12, 5))\n",
        "sns.boxplot(data=df, x=\"Priority\", y=\"Time Taken (hours)\")\n",
        "plt.title(\"Time Taken vs Task Priority\")\n",
        "plt.show()\n",
        "\n",
        "# Past Task Behavior Impact on Completion Time\n",
        "plt.figure(figsize=(12, 5))\n",
        "sns.boxplot(data=df, x=\"Past Task Behavior\", y=\"Time Taken (hours)\")\n",
        "plt.title(\"Task Completion Time vs Past User Behavior\")\n",
        "plt.xticks(rotation=45)\n",
        "plt.show()\n",
        "\n",
        "print(\"EDA completed successfully!\")"
      ],
      "metadata": {
        "colab": {
          "base_uri": "https://localhost:8080/",
          "height": 1000
        },
        "id": "M4c4PD0fngrU",
        "outputId": "37e40676-a6f0-4ed3-fc62-17dd8d634d13"
      },
      "execution_count": null,
      "outputs": [
        {
          "output_type": "stream",
          "name": "stdout",
          "text": [
            "Dataset Shape: (300, 16)\n",
            "\n",
            "Missing Values:\n",
            " Task ID                      0\n",
            "Task Description             0\n",
            "Deadline                     0\n",
            "Priority                     0\n",
            "Assigned User                0\n",
            "User Workload                0\n",
            "Past Task Behavior           0\n",
            "Category                     0\n",
            "Status                       0\n",
            "Time Taken (hours)           0\n",
            "Days Remaining               0\n",
            "User Current Load            0\n",
            "Past Behavior Score          0\n",
            "Task Complexity Score        0\n",
            "Category Specialist Match    0\n",
            "User Availability Flag       0\n",
            "dtype: int64\n"
          ]
        },
        {
          "output_type": "display_data",
          "data": {
            "text/plain": [
              "<Figure size 1000x500 with 1 Axes>"
            ],
            "image/png": "[encoded data removed]"
          },
          "metadata": {}
        },
        {
          "output_type": "display_data",
          "data": {
            "text/plain": [
              "<Figure size 800x400 with 1 Axes>"
            ],
            "image/png": "[encoded data removed]"
          },
          "metadata": {}
        },
        {
          "output_type": "display_data",
          "data": {
            "text/plain": [
              "<Figure size 1000x500 with 1 Axes>"
            ],
            "image/png": "[encoded data removed]"
          },
          "metadata": {}
        },
        {
          "output_type": "display_data",
          "data": {
            "text/plain": [
              "<Figure size 1200x600 with 1 Axes>"
            ],
            "image/png": "[encoded data removed]"
          },
          "metadata": {}
        },
        {
          "output_type": "display_data",
          "data": {
            "text/plain": [
              "<Figure size 1200x500 with 1 Axes>"
            ],
            "image/png": "[encoded data removed]"
          },
          "metadata": {}
        },
        {
          "output_type": "display_data",
          "data": {
            "text/plain": [
              "<Figure size 1200x500 with 1 Axes>"
            ],
            "image/png": "[encoded data removed]"
          },
          "metadata": {}
        },
        {
          "output_type": "stream",
          "name": "stdout",
          "text": [
            "EDA completed successfully!\n"
          ]
        }
      ]
    },
    {
      "cell_type": "code",
      "source": [
        "import pandas as pd\n",
        "from sklearn.preprocessing import LabelEncoder\n",
        "from sklearn.model_selection import train_test_split, GridSearchCV\n",
        "from sklearn.ensemble import RandomForestClassifier\n",
        "from sklearn.metrics import accuracy_score\n",
        "\n",
        "# Assuming df is your original DataFrame with columns:\n",
        "# [\"Priority\", \"Category\", \"Time Taken (hours)\", \"Days Remaining\", \"Assigned User\"]\n",
        "\n",
        "# Drop missing values\n",
        "df_ml = df[[\"Priority\", \"Category\", \"Time Taken (hours)\", \"Days Remaining\", \"Assigned User\"]].dropna().copy()\n",
        "\n",
        "# -- Feature Engineering --\n",
        "\n",
        "# Map Priority to numeric Task Complexity (simple)\n",
        "priority_map = {\"Low\": 1, \"Medium\": 2, \"High\": 3}\n",
        "df_ml[\"Task_Complexity\"] = df_ml[\"Priority\"].map(priority_map)\n",
        "\n",
        "# Compute User Workload (number of tasks currently assigned)\n",
        "user_workload = df_ml[\"Assigned User\"].value_counts().to_dict()\n",
        "df_ml[\"User_Workload\"] = df_ml[\"Assigned User\"].map(user_workload)\n",
        "\n",
        "# Label encode categorical features\n",
        "le_priority = LabelEncoder()\n",
        "le_cat = LabelEncoder()\n",
        "le_user = LabelEncoder()\n",
        "\n",
        "df_ml[\"Priority_Encoded\"] = le_priority.fit_transform(df_ml[\"Priority\"])\n",
        "df_ml[\"Category_Encoded\"] = le_cat.fit_transform(df_ml[\"Category\"])\n",
        "df_ml[\"User_Encoded\"] = le_user.fit_transform(df_ml[\"Assigned User\"])\n",
        "\n",
        "# Features and target\n",
        "feature_cols = [\"Priority_Encoded\", \"Category_Encoded\", \"Time Taken (hours)\", \"Days Remaining\", \"Task_Complexity\", \"User_Workload\"]\n",
        "X = df_ml[feature_cols]\n",
        "y = df_ml[\"User_Encoded\"]\n",
        "\n",
        "# Split dataset\n",
        "X_train, X_test, y_train, y_test = train_test_split(X, y, test_size=0.2, random_state=42)\n",
        "\n",
        "# Random Forest with hyperparameter tuning\n",
        "param_grid = {\n",
        "    'n_estimators': [50, 100],\n",
        "    'max_depth': [None, 10, 20],\n",
        "    'min_samples_split': [2, 5],\n",
        "    'min_samples_leaf': [1, 2]\n",
        "}\n",
        "\n",
        "rf = RandomForestClassifier(random_state=42)\n",
        "\n",
        "grid_search = GridSearchCV(rf, param_grid, cv=3, n_jobs=-1, verbose=1)\n",
        "grid_search.fit(X_train, y_train)\n",
        "\n",
        "best_rf = grid_search.best_estimator_\n",
        "\n",
        "# Predictions and accuracy\n",
        "y_pred = best_rf.predict(X_test)\n",
        "accuracy = accuracy_score(y_test, y_pred)\n",
        "\n",
        "print(f\"Best RF params: {grid_search.best_params_}\")\n",
        "print(f\"Assignment Prediction Accuracy: {accuracy:.4f}\")\n"
      ],
      "metadata": {
        "colab": {
          "base_uri": "https://localhost:8080/"
        },
        "id": "AraDrCvcZ7Q9",
        "outputId": "40feeb80-6101-4842-d808-26915b25242c"
      },
      "execution_count": null,
      "outputs": [
        {
          "output_type": "stream",
          "name": "stdout",
          "text": [
            "Fitting 3 folds for each of 24 candidates, totalling 72 fits\n",
            "Best RF params: {'max_depth': None, 'min_samples_leaf': 1, 'min_samples_split': 5, 'n_estimators': 100}\n",
            "Assignment Prediction Accuracy: 1.0000\n"
          ]
        }
      ]
    },
    {
      "cell_type": "code",
      "source": [
        "# Force remove corrupted punkt and re-download\n",
        "nltk.download('punkt', force=True)\n",
        "nltk.download('stopwords')\n",
        "\n",
        "# Download the missing 'punkt_tab' resource\n",
        "nltk.download('punkt_tab', force=True)# Preprocessing\n",
        "df[\"Cleaned_Description\"] = df[\"Task Description\"].str.lower()\n",
        "df[\"Cleaned_Description\"] = df[\"Cleaned_Description\"].str.translate(str.maketrans(\"\", \"\", string.punctuation))\n",
        "\n",
        "# Tokenization\n",
        "df[\"Tokens\"] = df[\"Cleaned_Description\"].apply(word_tokenize)\n",
        "\n",
        "# Stopword removal\n",
        "stop_words = set(stopwords.words(\"english\"))\n",
        "df[\"Tokens\"] = df[\"Tokens\"].apply(lambda x: [word for word in x if word not in stop_words])\n",
        "\n",
        "# Stemming\n",
        "stemmer = PorterStemmer()\n",
        "df[\"Tokens\"] = df[\"Tokens\"].apply(lambda x: [stemmer.stem(word) for word in x])\n",
        "\n",
        "# Join tokens for TF-IDF\n",
        "df[\"Processed_Description\"] = df[\"Tokens\"].apply(lambda x: \" \".join(x))\n",
        "\n",
        "\n",
        "# Vectorize the Processed Task Descriptions\n",
        "vectorizer = TfidfVectorizer(max_features=1000)  # You can adjust max_features\n",
        "X = vectorizer.fit_transform(df[\"Processed_Description\"]).toarray()\n",
        "\n",
        "# Target variable (you can change 'Category' to 'Priority' or other target field)\n",
        "y = df[\"Category\"]\n",
        "\n",
        "# Split into train and test sets\n",
        "X_train, X_test, y_train, y_test = train_test_split(X, y, test_size=0.2, random_state=42)\n",
        "\n"
      ],
      "metadata": {
        "id": "2k9YPUhOGH3Z",
        "colab": {
          "base_uri": "https://localhost:8080/"
        },
        "outputId": "85ead36f-7607-4790-c5a4-812e9dc9894b"
      },
      "execution_count": null,
      "outputs": [
        {
          "output_type": "stream",
          "name": "stderr",
          "text": [
            "[nltk_data] Downloading package punkt to /root/nltk_data...\n",
            "[nltk_data]   Unzipping tokenizers/punkt.zip.\n",
            "[nltk_data] Downloading package stopwords to /root/nltk_data...\n",
            "[nltk_data]   Package stopwords is already up-to-date!\n",
            "[nltk_data] Downloading package punkt_tab to /root/nltk_data...\n",
            "[nltk_data]   Unzipping tokenizers/punkt_tab.zip.\n"
          ]
        }
      ]
    },
    {
      "cell_type": "code",
      "source": [
        "# Naive Bayes Classifier\n",
        "nb_model = MultinomialNB()\n",
        "nb_model.fit(X_train, y_train)\n",
        "nb_preds = nb_model.predict(X_test)\n",
        "\n",
        "print(\"Naive Bayes Classification Report:\")\n",
        "print(classification_report(y_test, nb_preds))\n",
        "print(\"Accuracy:\", accuracy_score(y_test, nb_preds))\n",
        "\n",
        "# Support Vector Machine (SVM)\n",
        "svm_model = SVC(kernel='linear')\n",
        "svm_model.fit(X_train, y_train)\n",
        "svm_preds = svm_model.predict(X_test)\n",
        "\n",
        "print(\"\\nSVM Classification Report:\")\n",
        "print(classification_report(y_test, svm_preds))\n",
        "print(\"Accuracy:\", accuracy_score(y_test, svm_preds))\n"
      ],
      "metadata": {
        "colab": {
          "base_uri": "https://localhost:8080/"
        },
        "id": "D-1AKpilGl_N",
        "outputId": "16fd6394-a793-4373-b241-a0d6f1beed63"
      },
      "execution_count": null,
      "outputs": [
        {
          "output_type": "stream",
          "name": "stdout",
          "text": [
            "Naive Bayes Classification Report:\n",
            "              precision    recall  f1-score   support\n",
            "\n",
            "           0       0.50      0.19      0.27        16\n",
            "           1       0.05      0.20      0.08         5\n",
            "           2       1.00      0.14      0.25        14\n",
            "           3       0.25      0.38      0.30        13\n",
            "           4       0.15      0.17      0.16        12\n",
            "\n",
            "    accuracy                           0.22        60\n",
            "   macro avg       0.39      0.22      0.21        60\n",
            "weighted avg       0.46      0.22      0.24        60\n",
            "\n",
            "Accuracy: 0.21666666666666667\n",
            "\n",
            "SVM Classification Report:\n",
            "              precision    recall  f1-score   support\n",
            "\n",
            "           0       0.22      0.38      0.28        16\n",
            "           1       0.00      0.00      0.00         5\n",
            "           2       0.00      0.00      0.00        14\n",
            "           3       0.20      0.08      0.11        13\n",
            "           4       0.10      0.17      0.12        12\n",
            "\n",
            "    accuracy                           0.15        60\n",
            "   macro avg       0.10      0.12      0.10        60\n",
            "weighted avg       0.12      0.15      0.12        60\n",
            "\n",
            "Accuracy: 0.15\n"
          ]
        }
      ]
    },
    {
      "cell_type": "code",
      "source": [
        "# Clean your text column\n",
        "df[\"Cleaned_Description\"] = df[\"Task Description\"].str.lower().str.replace(r'[^a-z\\s]', '', regex=True)\n",
        "\n",
        "# TF-IDF Vectorization\n",
        "tfidf = TfidfVectorizer(max_features=1000)\n",
        "X = tfidf.fit_transform(df[\"Cleaned_Description\"]).toarray()\n",
        "\n",
        "# Target: Priority\n",
        "y = df[\"Priority\"]\n",
        "\n",
        "# Split dataset\n",
        "X_train, X_test, y_train, y_test = train_test_split(X, y, test_size=0.2, random_state=42)\n",
        "\n",
        "# Train Random Forest Classifier\n",
        "rfc = RandomForestClassifier(n_estimators=100, random_state=42)\n",
        "rfc.fit(X_train, y_train)\n",
        "\n",
        "# Predict\n",
        "y_pred = rfc.predict(X_test)\n",
        "\n",
        "# Evaluation\n",
        "print(\"Random Forest Priority Classification Report:\")\n",
        "print(classification_report(y_test, y_pred))\n",
        "print(\"Accuracy:\", accuracy_score(y_test, y_pred))\n"
      ],
      "metadata": {
        "id": "XT1MoPX2G5BD",
        "colab": {
          "base_uri": "https://localhost:8080/"
        },
        "outputId": "8d624068-2925-403e-94d1-bee3ce4c44f8"
      },
      "execution_count": null,
      "outputs": [
        {
          "output_type": "stream",
          "name": "stdout",
          "text": [
            "Random Forest Priority Classification Report:\n",
            "              precision    recall  f1-score   support\n",
            "\n",
            "        High       0.00      0.00      0.00        19\n",
            "         Low       0.00      0.00      0.00        14\n",
            "      Medium       0.45      1.00      0.62        27\n",
            "\n",
            "    accuracy                           0.45        60\n",
            "   macro avg       0.15      0.33      0.21        60\n",
            "weighted avg       0.20      0.45      0.28        60\n",
            "\n",
            "Accuracy: 0.45\n"
          ]
        },
        {
          "output_type": "stream",
          "name": "stderr",
          "text": [
            "/usr/local/lib/python3.11/dist-packages/sklearn/metrics/_classification.py:1565: UndefinedMetricWarning: Precision is ill-defined and being set to 0.0 in labels with no predicted samples. Use `zero_division` parameter to control this behavior.\n",
            "  _warn_prf(average, modifier, f\"{metric.capitalize()} is\", len(result))\n",
            "/usr/local/lib/python3.11/dist-packages/sklearn/metrics/_classification.py:1565: UndefinedMetricWarning: Precision is ill-defined and being set to 0.0 in labels with no predicted samples. Use `zero_division` parameter to control this behavior.\n",
            "  _warn_prf(average, modifier, f\"{metric.capitalize()} is\", len(result))\n",
            "/usr/local/lib/python3.11/dist-packages/sklearn/metrics/_classification.py:1565: UndefinedMetricWarning: Precision is ill-defined and being set to 0.0 in labels with no predicted samples. Use `zero_division` parameter to control this behavior.\n",
            "  _warn_prf(average, modifier, f\"{metric.capitalize()} is\", len(result))\n"
          ]
        }
      ]
    },
    {
      "cell_type": "code",
      "source": [
        "# Define param grid\n",
        "param_grid = {\n",
        "    'n_estimators': [50, 100, 150],\n",
        "    'max_depth': [None, 10, 20],\n",
        "    'min_samples_split': [2, 5],\n",
        "}\n",
        "\n",
        "# GridSearch\n",
        "grid = GridSearchCV(RandomForestClassifier(random_state=42), param_grid, cv=5, scoring='accuracy')\n",
        "grid.fit(X_train, y_train)\n",
        "\n",
        "print(\"Best Parameters:\", grid.best_params_)\n",
        "print(\"Best Accuracy Score:\", grid.best_score_)\n",
        "\n",
        "# Count tasks assigned to each user\n",
        "user_workload = df[\"User Workload\"].value_counts()\n",
        "\n",
        "# Find user with lowest workload\n",
        "least_busy_user = user_workload.idxmin()\n",
        "\n",
        "print(f\"Next task should be assigned to: {least_busy_user}\")\n",
        "\n",
        "\n"
      ],
      "metadata": {
        "colab": {
          "base_uri": "https://localhost:8080/"
        },
        "id": "nrJdqaHLfZ9R",
        "outputId": "5b9cc63b-7f2b-4e1e-e821-2119fabbffdd"
      },
      "execution_count": null,
      "outputs": [
        {
          "output_type": "stream",
          "name": "stdout",
          "text": [
            "Best Parameters: {'max_depth': None, 'min_samples_split': 2, 'n_estimators': 50}\n",
            "Best Accuracy Score: 0.4875\n",
            "Next task should be assigned to: 4\n"
          ]
        }
      ]
    },
    {
      "cell_type": "code",
      "source": [
        "# Select features and target for priority prediction\n",
        "features = [\"Time Taken (hours)\", \"User Workload\", \"Past Task Behavior\"]\n",
        "df = df.dropna(subset=features + [\"Priority\"])\n",
        "X = pd.get_dummies(df[features])  # Convert categorical to numeric if needed\n",
        "y = df[\"Priority\"]\n",
        "\n",
        "# Train-test split\n",
        "X_train, X_test, y_train, y_test = train_test_split(X, y, test_size=0.2, random_state=42)\n",
        "\n",
        "# Initialize Random Forest\n",
        "rf = RandomForestClassifier(random_state=42)\n",
        "\n",
        "# GridSearchCV for hyperparameter tuning\n",
        "param_grid = {\n",
        "    \"n_estimators\": [50, 100, 150],\n",
        "    \"max_depth\": [5, 10, 15],\n",
        "    \"min_samples_split\": [2, 5]\n",
        "}\n",
        "\n",
        "grid_search = GridSearchCV(estimator=rf, param_grid=param_grid, cv=5, scoring=\"accuracy\", n_jobs=-1)\n",
        "grid_search.fit(X_train, y_train)\n",
        "\n",
        "# Best model\n",
        "best_rf = grid_search.best_estimator_\n",
        "\n",
        "# Predict and evaluate\n",
        "y_pred = best_rf.predict(X_test)\n",
        "print(\"Classification Report:\\n\", classification_report(y_test, y_pred))\n",
        "print(\"Accuracy:\", accuracy_score(y_test, y_pred))\n"
      ],
      "metadata": {
        "colab": {
          "base_uri": "https://localhost:8080/"
        },
        "id": "WaIAFb5QkGEt",
        "outputId": "b03ebc3d-3459-46d4-ead6-901c9039e6f1"
      },
      "execution_count": null,
      "outputs": [
        {
          "output_type": "stream",
          "name": "stdout",
          "text": [
            "Classification Report:\n",
            "               precision    recall  f1-score   support\n",
            "\n",
            "        High       0.38      0.26      0.31        19\n",
            "         Low       0.17      0.07      0.10        14\n",
            "      Medium       0.46      0.70      0.56        27\n",
            "\n",
            "    accuracy                           0.42        60\n",
            "   macro avg       0.34      0.35      0.32        60\n",
            "weighted avg       0.37      0.42      0.37        60\n",
            "\n",
            "Accuracy: 0.4166666666666667\n"
          ]
        }
      ]
    },
    {
      "cell_type": "code",
      "source": [
        "import pandas as pd\n",
        "from datetime import datetime\n",
        "\n",
        "# Step 1: Convert Deadline to datetime if not already\n",
        "df[\"Deadline\"] = pd.to_datetime(df[\"Deadline\"], errors='coerce')\n",
        "\n",
        "# Step 2: Calculate days remaining from today\n",
        "today = pd.to_datetime(\"today\")\n",
        "df[\"Days Remaining\"] = (df[\"Deadline\"] - today).dt.days\n",
        "\n",
        "# Step 3: Map textual Priority to score\n",
        "priority_mapping = {\"High\": 3, \"Medium\": 2, \"Low\": 1}\n",
        "df[\"Priority_Score\"] = df[\"Priority\"].map(priority_mapping).fillna(1)\n",
        "\n",
        "# Step 4: Define urgency score: priority + deadline\n",
        "df[\"Urgency Score\"] = (\n",
        "    df[\"Priority_Score\"] * 2 +\n",
        "    df[\"Days Remaining\"].apply(lambda x: 5 if x <= 2 else 2 if x <= 7 else 0)\n",
        ")\n",
        "\n",
        "# Step 5: Sort by most urgent\n",
        "df_sorted = df.sort_values(by=\"Urgency Score\", ascending=False).copy()\n",
        "\n",
        "# Step 6: Get unique users and simulate initial workload\n",
        "users = df_sorted[\"Assigned User\"].dropna().unique()\n",
        "user_workload_map = {\n",
        "    user: df_sorted[df_sorted[\"Assigned User\"] == user][\"User Workload\"].iloc[0]\n",
        "    for user in users\n",
        "}\n",
        "\n",
        "# Default max workload (in hours)\n",
        "MAX_WORKLOAD = 40\n",
        "\n",
        "# Step 7: Reassign tasks based on lowest current workload\n",
        "assigned_users = []\n",
        "for _, row in df_sorted.iterrows():\n",
        "    # Choose user with least workload\n",
        "    least_busy_user = min(user_workload_map, key=user_workload_map.get)\n",
        "    assigned_users.append(least_busy_user)\n",
        "\n",
        "    # Update workload with this task\n",
        "    user_workload_map[least_busy_user] += row[\"Time Taken (hours)\"]\n",
        "\n",
        "# Step 8: Save final assignment\n",
        "df_sorted[\"Final Assigned User\"] = assigned_users\n",
        "\n",
        "# Step 9: Show some results\n",
        "print(df_sorted[[\n",
        "    \"Task ID\", \"Task Description\", \"Priority\", \"Deadline\", \"Days Remaining\",\n",
        "    \"Time Taken (hours)\", \"Urgency Score\", \"Final Assigned User\"\n",
        "]].head(10))\n"
      ],
      "metadata": {
        "colab": {
          "base_uri": "https://localhost:8080/"
        },
        "id": "WPYLUyhIXaTn",
        "outputId": "5e25f95d-0deb-4b2a-f856-52400b12fd3a"
      },
      "execution_count": null,
      "outputs": [
        {
          "output_type": "stream",
          "name": "stdout",
          "text": [
            "      Task ID      Task Description Priority   Deadline  Days Remaining  \\\n",
            "249  TASK0250  Task description 250     High 2025-05-29               1   \n",
            "156  TASK0157  Task description 157     High 2025-05-28               0   \n",
            "84   TASK0085   Task description 85     High 2025-05-29               1   \n",
            "162  TASK0163  Task description 163     High 2025-05-30               2   \n",
            "241  TASK0242  Task description 242     High 2025-05-28               0   \n",
            "270  TASK0271  Task description 271   Medium 2025-05-28               0   \n",
            "181  TASK0182  Task description 182   Medium 2025-05-28               0   \n",
            "147  TASK0148  Task description 148   Medium 2025-05-28               0   \n",
            "282  TASK0283  Task description 283   Medium 2025-05-28               0   \n",
            "279  TASK0280  Task description 280   Medium 2025-05-28               0   \n",
            "\n",
            "     Time Taken (hours)  Urgency Score Final Assigned User  \n",
            "249                6.81             11                 Eva  \n",
            "156                9.73             11             Charlie  \n",
            "84                 4.38             11               David  \n",
            "162                8.32             11                 Bob  \n",
            "241                5.77             11               David  \n",
            "270                8.88              9                 Eva  \n",
            "181                4.29              9               Alice  \n",
            "147                3.36              9             Charlie  \n",
            "282                9.17              9               Alice  \n",
            "279                5.23              9               David  \n"
          ]
        }
      ]
    },
    {
      "cell_type": "code",
      "source": [
        "# Visualize total workload per user after new assignment\n",
        "final_workload_df = pd.DataFrame.from_dict(\n",
        "    user_workload_map, orient='index', columns=[\"Final Workload (hrs)\"]\n",
        ")\n",
        "final_workload_df.sort_values(\"Final Workload (hrs)\").plot(\n",
        "    kind='bar', figsize=(8,4), legend=False, title=\"Final Workload Distribution\"\n",
        ")\n"
      ],
      "metadata": {
        "colab": {
          "base_uri": "https://localhost:8080/",
          "height": 443
        },
        "id": "ah4X4DzwZPyz",
        "outputId": "4d038843-0b44-47cf-ac18-9651c649301e"
      },
      "execution_count": null,
      "outputs": [
        {
          "output_type": "execute_result",
          "data": {
            "text/plain": [
              "<Axes: title={'center': 'Final Workload Distribution'}>"
            ]
          },
          "metadata": {},
          "execution_count": 54
        },
        {
          "output_type": "display_data",
          "data": {
            "text/plain": [
              "<Figure size 800x400 with 1 Axes>"
            ],
            "image/png": "[encoded data removed]"
          },
          "metadata": {}
        }
      ]
    },
    {
      "cell_type": "code",
      "source": [
        "# Heuristic Rule-Based Task Assignment Based on Workload and Urgency\n",
        "\n",
        "priority_map = {\"High\": 3, \"Medium\": 2, \"Low\": 1}\n",
        "df[\"Priority_Score\"] = df[\"Priority\"].map(priority_map).fillna(1)\n",
        "\n",
        "df[\"Urgency\"] = df[\"Priority_Score\"] * 2 + df[\"Days Remaining\"].apply(lambda x: 5 if x <= 2 else 2 if x <= 7 else 0)\n",
        "\n",
        "df_sorted = df.sort_values(\"Urgency\", ascending=False).copy()\n",
        "\n",
        "users = df[\"Assigned User\"].dropna().unique()\n",
        "user_workload_map = {\n",
        "    user: df[df[\"Assigned User\"] == user][\"User Workload\"].iloc[0]\n",
        "    for user in users\n",
        "}\n",
        "\n",
        "assigned_users = []\n",
        "for _, row in df_sorted.iterrows():\n",
        "    eligible_users = sorted(user_workload_map.items(), key=lambda x: x[1])\n",
        "    chosen_user = eligible_users[0][0]\n",
        "    assigned_users.append(chosen_user)\n",
        "    user_workload_map[chosen_user] += row[\"Time Taken (hours)\"]\n",
        "\n",
        "df_sorted[\"Heuristic Assigned User\"] = assigned_users\n",
        "df_sorted[[\"Task ID\", \"Task Description\", \"Urgency\", \"Heuristic Assigned User\"]].head()\n"
      ],
      "metadata": {
        "colab": {
          "base_uri": "https://localhost:8080/",
          "height": 206
        },
        "id": "VcBZCqb8czhM",
        "outputId": "9093747a-3bc9-42bd-cc91-39225a0a165a"
      },
      "execution_count": null,
      "outputs": [
        {
          "output_type": "execute_result",
          "data": {
            "text/plain": [
              "      Task ID      Task Description  Urgency Heuristic Assigned User\n",
              "249  TASK0250  Task description 250       11                     Bob\n",
              "156  TASK0157  Task description 157       11                 Charlie\n",
              "84   TASK0085   Task description 85       11                     Eva\n",
              "162  TASK0163  Task description 163       11                   Alice\n",
              "241  TASK0242  Task description 242       11                   David"
            ],
            "text/html": [
              "\n",
              "  <div id=\"df-0b717406-a9ab-4c55-a1f5-71d5b01dbde7\" class=\"colab-df-container\">\n",
              "    <div>\n",
              "<style scoped>\n",
              "    .dataframe tbody tr th:only-of-type {\n",
              "        vertical-align: middle;\n",
              "    }\n",
              "\n",
              "    .dataframe tbody tr th {\n",
              "        vertical-align: top;\n",
              "    }\n",
              "\n",
              "    .dataframe thead th {\n",
              "        text-align: right;\n",
              "    }\n",
              "</style>\n",
              "<table border=\"1\" class=\"dataframe\">\n",
              "  <thead>\n",
              "    <tr style=\"text-align: right;\">\n",
              "      <th></th>\n",
              "      <th>Task ID</th>\n",
              "      <th>Task Description</th>\n",
              "      <th>Urgency</th>\n",
              "      <th>Heuristic Assigned User</th>\n",
              "    </tr>\n",
              "  </thead>\n",
              "  <tbody>\n",
              "    <tr>\n",
              "      <th>249</th>\n",
              "      <td>TASK0250</td>\n",
              "      <td>Task description 250</td>\n",
              "      <td>11</td>\n",
              "      <td>Bob</td>\n",
              "    </tr>\n",
              "    <tr>\n",
              "      <th>156</th>\n",
              "      <td>TASK0157</td>\n",
              "      <td>Task description 157</td>\n",
              "      <td>11</td>\n",
              "      <td>Charlie</td>\n",
              "    </tr>\n",
              "    <tr>\n",
              "      <th>84</th>\n",
              "      <td>TASK0085</td>\n",
              "      <td>Task description 85</td>\n",
              "      <td>11</td>\n",
              "      <td>Eva</td>\n",
              "    </tr>\n",
              "    <tr>\n",
              "      <th>162</th>\n",
              "      <td>TASK0163</td>\n",
              "      <td>Task description 163</td>\n",
              "      <td>11</td>\n",
              "      <td>Alice</td>\n",
              "    </tr>\n",
              "    <tr>\n",
              "      <th>241</th>\n",
              "      <td>TASK0242</td>\n",
              "      <td>Task description 242</td>\n",
              "      <td>11</td>\n",
              "      <td>David</td>\n",
              "    </tr>\n",
              "  </tbody>\n",
              "</table>\n",
              "</div>\n",
              "    <div class=\"colab-df-buttons\">\n",
              "\n",
              "  <div class=\"colab-df-container\">\n",
              "    <button class=\"colab-df-convert\" onclick=\"convertToInteractive('df-0b717406-a9ab-4c55-a1f5-71d5b01dbde7')\"\n",
              "            title=\"Convert this dataframe to an interactive table.\"\n",
              "            style=\"display:none;\">\n",
              "\n",
              "  <svg xmlns=\"http://www.w3.org/2000/svg\" height=\"24px\" viewBox=\"0 -960 960 960\">\n",
              "    <path d=\"M120-120v-720h720v720H120Zm60-500h600v-160H180v160Zm220 220h160v-160H400v160Zm0 220h160v-160H400v160ZM180-400h160v-160H180v160Zm440 0h160v-160H620v160ZM180-180h160v-160H180v160Zm440 0h160v-160H620v160Z\"/>\n",
              "  </svg>\n",
              "    </button>\n",
              "\n",
              "  <style>\n",
              "    .colab-df-container {\n",
              "      display:flex;\n",
              "      gap: 12px;\n",
              "    }\n",
              "\n",
              "    .colab-df-convert {\n",
              "      background-color: #E8F0FE;\n",
              "      border: none;\n",
              "      border-radius: 50%;\n",
              "      cursor: pointer;\n",
              "      display: none;\n",
              "      fill: #1967D2;\n",
              "      height: 32px;\n",
              "      padding: 0 0 0 0;\n",
              "      width: 32px;\n",
              "    }\n",
              "\n",
              "    .colab-df-convert:hover {\n",
              "      background-color: #E2EBFA;\n",
              "      box-shadow: 0px 1px 2px rgba(60, 64, 67, 0.3), 0px 1px 3px 1px rgba(60, 64, 67, 0.15);\n",
              "      fill: #174EA6;\n",
              "    }\n",
              "\n",
              "    .colab-df-buttons div {\n",
              "      margin-bottom: 4px;\n",
              "    }\n",
              "\n",
              "    [theme=dark] .colab-df-convert {\n",
              "      background-color: #3B4455;\n",
              "      fill: #D2E3FC;\n",
              "    }\n",
              "\n",
              "    [theme=dark] .colab-df-convert:hover {\n",
              "      background-color: #434B5C;\n",
              "      box-shadow: 0px 1px 3px 1px rgba(0, 0, 0, 0.15);\n",
              "      filter: drop-shadow(0px 1px 2px rgba(0, 0, 0, 0.3));\n",
              "      fill: #FFFFFF;\n",
              "    }\n",
              "  </style>\n",
              "\n",
              "    <script>\n",
              "      const buttonEl =\n",
              "        document.querySelector('#df-0b717406-a9ab-4c55-a1f5-71d5b01dbde7 button.colab-df-convert');\n",
              "      buttonEl.style.display =\n",
              "        google.colab.kernel.accessAllowed ? 'block' : 'none';\n",
              "\n",
              "      async function convertToInteractive(key) {\n",
              "        const element = document.querySelector('#df-0b717406-a9ab-4c55-a1f5-71d5b01dbde7');\n",
              "        const dataTable =\n",
              "          await google.colab.kernel.invokeFunction('convertToInteractive',\n",
              "                                                    [key], {});\n",
              "        if (!dataTable) return;\n",
              "\n",
              "        const docLinkHtml = 'Like what you see? Visit the ' +\n",
              "          '<a target=\"_blank\" href=https://colab.research.google.com/notebooks/data_table.ipynb>data table notebook</a>'\n",
              "          + ' to learn more about interactive tables.';\n",
              "        element.innerHTML = '';\n",
              "        dataTable['output_type'] = 'display_data';\n",
              "        await google.colab.output.renderOutput(dataTable, element);\n",
              "        const docLink = document.createElement('div');\n",
              "        docLink.innerHTML = docLinkHtml;\n",
              "        element.appendChild(docLink);\n",
              "      }\n",
              "    </script>\n",
              "  </div>\n",
              "\n",
              "\n",
              "    <div id=\"df-f02ee761-7192-41a9-acbe-3c986ba85d72\">\n",
              "      <button class=\"colab-df-quickchart\" onclick=\"quickchart('df-f02ee761-7192-41a9-acbe-3c986ba85d72')\"\n",
              "                title=\"Suggest charts\"\n",
              "                style=\"display:none;\">\n",
              "\n",
              "<svg xmlns=\"http://www.w3.org/2000/svg\" height=\"24px\"viewBox=\"0 0 24 24\"\n",
              "     width=\"24px\">\n",
              "    <g>\n",
              "        <path d=\"M19 3H5c-1.1 0-2 .9-2 2v14c0 1.1.9 2 2 2h14c1.1 0 2-.9 2-2V5c0-1.1-.9-2-2-2zM9 17H7v-7h2v7zm4 0h-2V7h2v10zm4 0h-2v-4h2v4z\"/>\n",
              "    </g>\n",
              "</svg>\n",
              "      </button>\n",
              "\n",
              "<style>\n",
              "  .colab-df-quickchart {\n",
              "      --bg-color: #E8F0FE;\n",
              "      --fill-color: #1967D2;\n",
              "      --hover-bg-color: #E2EBFA;\n",
              "      --hover-fill-color: #174EA6;\n",
              "      --disabled-fill-color: #AAA;\n",
              "      --disabled-bg-color: #DDD;\n",
              "  }\n",
              "\n",
              "  [theme=dark] .colab-df-quickchart {\n",
              "      --bg-color: #3B4455;\n",
              "      --fill-color: #D2E3FC;\n",
              "      --hover-bg-color: #434B5C;\n",
              "      --hover-fill-color: #FFFFFF;\n",
              "      --disabled-bg-color: #3B4455;\n",
              "      --disabled-fill-color: #666;\n",
              "  }\n",
              "\n",
              "  .colab-df-quickchart {\n",
              "    background-color: var(--bg-color);\n",
              "    border: none;\n",
              "    border-radius: 50%;\n",
              "    cursor: pointer;\n",
              "    display: none;\n",
              "    fill: var(--fill-color);\n",
              "    height: 32px;\n",
              "    padding: 0;\n",
              "    width: 32px;\n",
              "  }\n",
              "\n",
              "  .colab-df-quickchart:hover {\n",
              "    background-color: var(--hover-bg-color);\n",
              "    box-shadow: 0 1px 2px rgba(60, 64, 67, 0.3), 0 1px 3px 1px rgba(60, 64, 67, 0.15);\n",
              "    fill: var(--button-hover-fill-color);\n",
              "  }\n",
              "\n",
              "  .colab-df-quickchart-complete:disabled,\n",
              "  .colab-df-quickchart-complete:disabled:hover {\n",
              "    background-color: var(--disabled-bg-color);\n",
              "    fill: var(--disabled-fill-color);\n",
              "    box-shadow: none;\n",
              "  }\n",
              "\n",
              "  .colab-df-spinner {\n",
              "    border: 2px solid var(--fill-color);\n",
              "    border-color: transparent;\n",
              "    border-bottom-color: var(--fill-color);\n",
              "    animation:\n",
              "      spin 1s steps(1) infinite;\n",
              "  }\n",
              "\n",
              "  @keyframes spin {\n",
              "    0% {\n",
              "      border-color: transparent;\n",
              "      border-bottom-color: var(--fill-color);\n",
              "      border-left-color: var(--fill-color);\n",
              "    }\n",
              "    20% {\n",
              "      border-color: transparent;\n",
              "      border-left-color: var(--fill-color);\n",
              "      border-top-color: var(--fill-color);\n",
              "    }\n",
              "    30% {\n",
              "      border-color: transparent;\n",
              "      border-left-color: var(--fill-color);\n",
              "      border-top-color: var(--fill-color);\n",
              "      border-right-color: var(--fill-color);\n",
              "    }\n",
              "    40% {\n",
              "      border-color: transparent;\n",
              "      border-right-color: var(--fill-color);\n",
              "      border-top-color: var(--fill-color);\n",
              "    }\n",
              "    60% {\n",
              "      border-color: transparent;\n",
              "      border-right-color: var(--fill-color);\n",
              "    }\n",
              "    80% {\n",
              "      border-color: transparent;\n",
              "      border-right-color: var(--fill-color);\n",
              "      border-bottom-color: var(--fill-color);\n",
              "    }\n",
              "    90% {\n",
              "      border-color: transparent;\n",
              "      border-bottom-color: var(--fill-color);\n",
              "    }\n",
              "  }\n",
              "</style>\n",
              "\n",
              "      <script>\n",
              "        async function quickchart(key) {\n",
              "          const quickchartButtonEl =\n",
              "            document.querySelector('#' + key + ' button');\n",
              "          quickchartButtonEl.disabled = true;  // To prevent multiple clicks.\n",
              "          quickchartButtonEl.classList.add('colab-df-spinner');\n",
              "          try {\n",
              "            const charts = await google.colab.kernel.invokeFunction(\n",
              "                'suggestCharts', [key], {});\n",
              "          } catch (error) {\n",
              "            console.error('Error during call to suggestCharts:', error);\n",
              "          }\n",
              "          quickchartButtonEl.classList.remove('colab-df-spinner');\n",
              "          quickchartButtonEl.classList.add('colab-df-quickchart-complete');\n",
              "        }\n",
              "        (() => {\n",
              "          let quickchartButtonEl =\n",
              "            document.querySelector('#df-f02ee761-7192-41a9-acbe-3c986ba85d72 button');\n",
              "          quickchartButtonEl.style.display =\n",
              "            google.colab.kernel.accessAllowed ? 'block' : 'none';\n",
              "        })();\n",
              "      </script>\n",
              "    </div>\n",
              "\n",
              "    </div>\n",
              "  </div>\n"
            ],
            "application/vnd.google.colaboratory.intrinsic+json": {
              "type": "dataframe",
              "summary": "{\n  \"name\": \"df_sorted[[\\\"Task ID\\\", \\\"Task Description\\\", \\\"Urgency\\\", \\\"Heuristic Assigned User\\\"]]\",\n  \"rows\": 5,\n  \"fields\": [\n    {\n      \"column\": \"Task ID\",\n      \"properties\": {\n        \"dtype\": \"string\",\n        \"num_unique_values\": 5,\n        \"samples\": [\n          \"TASK0157\",\n          \"TASK0242\",\n          \"TASK0085\"\n        ],\n        \"semantic_type\": \"\",\n        \"description\": \"\"\n      }\n    },\n    {\n      \"column\": \"Task Description\",\n      \"properties\": {\n        \"dtype\": \"string\",\n        \"num_unique_values\": 5,\n        \"samples\": [\n          \"Task description 157\",\n          \"Task description 242\",\n          \"Task description 85\"\n        ],\n        \"semantic_type\": \"\",\n        \"description\": \"\"\n      }\n    },\n    {\n      \"column\": \"Urgency\",\n      \"properties\": {\n        \"dtype\": \"number\",\n        \"std\": 0,\n        \"min\": 11,\n        \"max\": 11,\n        \"num_unique_values\": 1,\n        \"samples\": [\n          11\n        ],\n        \"semantic_type\": \"\",\n        \"description\": \"\"\n      }\n    },\n    {\n      \"column\": \"Heuristic Assigned User\",\n      \"properties\": {\n        \"dtype\": \"string\",\n        \"num_unique_values\": 5,\n        \"samples\": [\n          \"Charlie\"\n        ],\n        \"semantic_type\": \"\",\n        \"description\": \"\"\n      }\n    }\n  ]\n}"
            }
          },
          "metadata": {},
          "execution_count": 55
        }
      ]
    },
    {
      "cell_type": "code",
      "source": [
        "# ML-Based Task Assignment Using Random Forest\n",
        "# Encode categorical columns\n",
        "le_priority = LabelEncoder()\n",
        "le_category = LabelEncoder()\n",
        "le_user = LabelEncoder()\n",
        "\n",
        "df[\"Priority_Encoded\"] = le_priority.fit_transform(df[\"Priority\"])\n",
        "df[\"Category_Encoded\"] = le_category.fit_transform(df[\"Category\"])\n",
        "df[\"Assigned_User_Encoded\"] = le_user.fit_transform(df[\"Assigned User\"])\n",
        "\n",
        "# Define features based on your columns\n",
        "features = [\n",
        "    \"Priority_Encoded\", \"Category_Encoded\", \"Time Taken (hours)\",\n",
        "    \"Days Remaining\", \"User Current Load\", \"Past Behavior Score\",\n",
        "    \"Task Complexity Score\", \"Category Specialist Match\", \"User Availability Flag\"\n",
        "]\n",
        "\n",
        "X = df[features]\n",
        "y = df[\"Assigned_User_Encoded\"]\n",
        "\n",
        "# Train-test split with fixed random state for reproducibility\n",
        "X_train, X_test, y_train, y_test = train_test_split(X, y, test_size=0.2, random_state=42)\n",
        "\n",
        "# Initialize Random Forest with balanced class weight to handle class imbalance\n",
        "rf = RandomForestClassifier(random_state=42, class_weight='balanced')\n",
        "\n",
        "# Train the model\n",
        "rf.fit(X_train, y_train)\n",
        "\n",
        "# Predict on test set\n",
        "y_pred = rf.predict(X_test)\n",
        "\n",
        "# Evaluate the model\n",
        "accuracy = accuracy_score(y_test, y_pred)\n",
        "report = classification_report(y_test, y_pred, zero_division=0)\n",
        "\n",
        "print(f\"✅ Improved Assignment Prediction Accuracy: {accuracy:.4f}\")\n",
        "print(\"📊 Updated Classification Report:\\n\", report)\n"
      ],
      "metadata": {
        "colab": {
          "base_uri": "https://localhost:8080/"
        },
        "id": "Ds3Sy9HVdAQp",
        "outputId": "d7e8a1e1-4acf-461d-fa7b-93da3c7a5a6f"
      },
      "execution_count": null,
      "outputs": [
        {
          "output_type": "stream",
          "name": "stdout",
          "text": [
            "✅ Improved Assignment Prediction Accuracy: 0.4333\n",
            "📊 Updated Classification Report:\n",
            "               precision    recall  f1-score   support\n",
            "\n",
            "           0       0.47      0.44      0.45        16\n",
            "           1       0.14      0.20      0.17         5\n",
            "           2       0.53      0.71      0.61        14\n",
            "           3       0.67      0.31      0.42        13\n",
            "           4       0.31      0.33      0.32        12\n",
            "\n",
            "    accuracy                           0.43        60\n",
            "   macro avg       0.42      0.40      0.39        60\n",
            "weighted avg       0.47      0.43      0.43        60\n",
            "\n"
          ]
        }
      ]
    },
    {
      "cell_type": "code",
      "source": [
        "import joblib\n",
        "\n",
        "joblib.dump(rf, \"rf_model.joblib\")\n",
        "joblib.dump(le_user, \"le_user.joblib\")\n",
        "joblib.dump(le_priority, \"le_priority.joblib\")\n",
        "joblib.dump(le_category, \"le_category.joblib\")\n",
        "\n"
      ],
      "metadata": {
        "colab": {
          "base_uri": "https://localhost:8080/"
        },
        "id": "8j2Cd-0DHCCK",
        "outputId": "616e6270-9990-4e5a-e0c3-e9f051063057"
      },
      "execution_count": null,
      "outputs": [
        {
          "output_type": "execute_result",
          "data": {
            "text/plain": [
              "['le_category.joblib']"
            ]
          },
          "metadata": {},
          "execution_count": 71
        }
      ]
    },
    {
      "cell_type": "code",
      "source": [
        "import streamlit as st\n",
        "import pandas as pd\n",
        "import joblib\n",
        "\n",
        "# Load trained model and encoders\n",
        "rf_model = joblib.load(\"rf_model.joblib\")\n",
        "le_user = joblib.load(\"le_user.joblib\")\n",
        "le_priority = joblib.load(\"le_priority.joblib\")\n",
        "le_category = joblib.load(\"le_category.joblib\")\n",
        "\n",
        "st.set_page_config(page_title=\"🧠 Task Assignment Predictor\", layout=\"wide\")\n",
        "\n",
        "st.title(\"🔮 Intelligent Task Assignment Predictor\")\n",
        "st.markdown(\"Upload your task details and get predicted user assignment based on workload, task complexity, urgency, and behavior.\")\n",
        "\n",
        "# Upload CSV file\n",
        "uploaded_file = st.file_uploader(\"📂 Upload your task CSV file\", type=[\"csv\"])\n",
        "\n",
        "if uploaded_file:\n",
        "    input_df = pd.read_csv(uploaded_file)\n",
        "\n",
        "    # Encode priority and category\n",
        "    input_df[\"Priority_Encoded\"] = le_priority.transform(input_df[\"Priority\"])\n",
        "    input_df[\"Category_Encoded\"] = le_category.transform(input_df[\"Category\"])\n",
        "\n",
        "    # Features expected by model\n",
        "    expected_features = [\n",
        "        \"Priority_Encoded\", \"Category_Encoded\", \"Time Taken (hours)\",\n",
        "        \"Days Remaining\", \"User Current Load\", \"Past Behavior Score\",\n",
        "        \"Task Complexity Score\"\n",
        "    ]\n",
        "\n",
        "    # Check for missing features\n",
        "    missing_features = [f for f in expected_features if f not in input_df.columns]\n",
        "    if missing_features:\n",
        "        st.error(f\"Missing columns in uploaded data: {missing_features}\")\n",
        "    else:\n",
        "        X_input = input_df[expected_features]\n",
        "\n",
        "        # Predict assigned user\n",
        "        y_pred = rf_model.predict(X_input)\n",
        "        y_pred_labels = le_user.inverse_transform(y_pred)\n",
        "\n",
        "        # Add predictions to DataFrame\n",
        "        input_df[\"Predicted Assigned User\"] = y_pred_labels\n",
        "\n",
        "        st.success(\"✅ Prediction completed!\")\n",
        "        st.dataframe(input_df)\n",
        "\n",
        "        csv = input_df.to_csv(index=False).encode('utf-8')\n",
        "        st.download_button(\"📥 Download Prediction Results\", csv, \"predictions.csv\", \"text/csv\")\n",
        "\n",
        "else:\n",
        "    st.info(\"👆 Upload a task CSV file to begin prediction.\")\n"
      ],
      "metadata": {
        "colab": {
          "base_uri": "https://localhost:8080/"
        },
        "id": "jCC7QOFIFsN1",
        "outputId": "7659ca5f-52da-4e38-b128-ceadf3752d90"
      },
      "execution_count": null,
      "outputs": [
        {
          "output_type": "stream",
          "name": "stderr",
          "text": [
            "2025-05-27 09:47:50.318 Thread 'MainThread': missing ScriptRunContext! This warning can be ignored when running in bare mode.\n",
            "2025-05-27 09:47:50.322 Thread 'MainThread': missing ScriptRunContext! This warning can be ignored when running in bare mode.\n",
            "2025-05-27 09:47:50.324 Thread 'MainThread': missing ScriptRunContext! This warning can be ignored when running in bare mode.\n",
            "2025-05-27 09:47:50.325 Thread 'MainThread': missing ScriptRunContext! This warning can be ignored when running in bare mode.\n",
            "2025-05-27 09:47:50.326 Thread 'MainThread': missing ScriptRunContext! This warning can be ignored when running in bare mode.\n",
            "2025-05-27 09:47:50.327 Thread 'MainThread': missing ScriptRunContext! This warning can be ignored when running in bare mode.\n",
            "2025-05-27 09:47:50.328 Thread 'MainThread': missing ScriptRunContext! This warning can be ignored when running in bare mode.\n",
            "2025-05-27 09:47:50.328 Thread 'MainThread': missing ScriptRunContext! This warning can be ignored when running in bare mode.\n",
            "2025-05-27 09:47:50.329 Thread 'MainThread': missing ScriptRunContext! This warning can be ignored when running in bare mode.\n",
            "2025-05-27 09:47:50.330 Thread 'MainThread': missing ScriptRunContext! This warning can be ignored when running in bare mode.\n",
            "2025-05-27 09:47:50.332 Thread 'MainThread': missing ScriptRunContext! This warning can be ignored when running in bare mode.\n",
            "2025-05-27 09:47:50.333 Thread 'MainThread': missing ScriptRunContext! This warning can be ignored when running in bare mode.\n"
          ]
        }
      ]
    },
    {
      "cell_type": "code",
      "source": [
        "streamlit_code = \"\"\"\n",
        "import streamlit as st\n",
        "import pandas as pd\n",
        "import joblib\n",
        "\n",
        "# Load trained model and encoders\n",
        "rf_model = joblib.load(\"rf_model.joblib\")\n",
        "le_user = joblib.load(\"le_user.joblib\")\n",
        "le_priority = joblib.load(\"le_priority.joblib\")\n",
        "le_category = joblib.load(\"le_category.joblib\")\n",
        "\n",
        "st.set_page_config(page_title=\"🧠 Task Assignment Predictor\", layout=\"wide\")\n",
        "\n",
        "st.title(\"🔮 Intelligent Task Assignment Predictor\")\n",
        "st.markdown(\"Upload your task details and get predicted user assignment based on workload, task complexity, urgency, and behavior.\")\n",
        "\n",
        "# Upload CSV file\n",
        "uploaded_file = st.file_uploader(\"📂 Upload your task CSV file\", type=[\"csv\"])\n",
        "\n",
        "if uploaded_file:\n",
        "    input_df = pd.read_csv(uploaded_file)\n",
        "\n",
        "    # Encode priority and category\n",
        "    input_df[\"Priority_Encoded\"] = le_priority.transform(input_df[\"Priority\"])\n",
        "    input_df[\"Category_Encoded\"] = le_category.transform(input_df[\"Category\"])\n",
        "\n",
        "    # Features expected by model\n",
        "    expected_features = [\n",
        "        \"Priority_Encoded\", \"Category_Encoded\", \"Time Taken (hours)\",\n",
        "        \"Days Remaining\", \"User Current Load\", \"Past Behavior Score\",\n",
        "        \"Task Complexity Score\"\n",
        "    ]\n",
        "\n",
        "    # Check for missing features\n",
        "    missing_features = [f for f in expected_features if f not in input_df.columns]\n",
        "    if missing_features:\n",
        "        st.error(f\"Missing columns in uploaded data: {missing_features}\")\n",
        "    else:\n",
        "        X_input = input_df[expected_features]\n",
        "\n",
        "        # Predict assigned user\n",
        "        y_pred = rf_model.predict(X_input)\n",
        "        y_pred_labels = le_user.inverse_transform(y_pred)\n",
        "\n",
        "        # Add predictions to DataFrame\n",
        "        input_df[\"Predicted Assigned User\"] = y_pred_labels\n",
        "\n",
        "        st.success(\"✅ Prediction completed!\")\n",
        "        st.dataframe(input_df)\n",
        "\n",
        "        csv = input_df.to_csv(index=False).encode('utf-8')\n",
        "        st.download_button(\"📥 Download Prediction Results\", csv, \"predictions.csv\", \"text/csv\")\n",
        "\n",
        "else:\n",
        "    st.info(\"👆 Upload a task CSV file to begin prediction.\")\n",
        "\"\"\"\n",
        "\n",
        "with open(\"streamlit_app.py\", \"w\") as f:\n",
        "    f.write(streamlit_code)\n",
        "\n",
        "print(\"✅ streamlit_app.py file created successfully.\")\n"
      ],
      "metadata": {
        "colab": {
          "base_uri": "https://localhost:8080/"
        },
        "id": "8Fmhu6uMHgw2",
        "outputId": "2004f293-4957-49f5-a5d3-6929b32b5ac2"
      },
      "execution_count": null,
      "outputs": [
        {
          "output_type": "stream",
          "name": "stdout",
          "text": [
            "✅ streamlit_app.py file created successfully.\n"
          ]
        }
      ]
    },
    {
      "cell_type": "code",
      "source": [
        "!streamlit run streamlit_app.py & npx localtunnel --port 8501\n"
      ],
      "metadata": {
        "colab": {
          "base_uri": "https://localhost:8080/"
        },
        "id": "Dh9ymNnpHQ9q",
        "outputId": "3f1dad2f-a622-4e15-f524-362b92bb58da"
      },
      "execution_count": null,
      "outputs": [
        {
          "output_type": "stream",
          "name": "stdout",
          "text": [
            "\n",
            "Collecting usage statistics. To deactivate, set browser.gatherUsageStats to false.\n",
            "\u001b[0m\n",
            "\u001b[1G\u001b[0K⠙\u001b[1G\u001b[0K⠹\u001b[1G\u001b[0K⠸\u001b[1G\u001b[0K⠼\u001b[1G\u001b[0K⠴\u001b[0m\n",
            "\u001b[34m\u001b[1m  You can now view your Streamlit app in your browser.\u001b[0m\n",
            "\u001b[0m\n",
            "\u001b[34m  Local URL: \u001b[0m\u001b[1mhttp://localhost:8501\u001b[0m\n",
            "\u001b[34m  Network URL: \u001b[0m\u001b[1mhttp://172.28.0.12:8501\u001b[0m\n",
            "\u001b[34m  External URL: \u001b[0m\u001b[1mhttp://35.227.9.176:8501\u001b[0m\n",
            "\u001b[0m\n",
            "\u001b[1G\u001b[0K⠦\u001b[1G\u001b[0K⠧\u001b[1G\u001b[0Kyour url is: https://silent-seals-speak.loca.lt\n",
            "\u001b[34m  Stopping...\u001b[0m\n",
            "^C\n"
          ]
        }
      ]
    }
  ],
  "metadata": {
    "colab": {
      "provenance": []
    },
    "kernelspec": {
      "display_name": "Python 3",
      "name": "python3"
    },
    "language_info": {
      "name": "python"
    }
  },
  "nbformat": 4,
  "nbformat_minor": 0
}